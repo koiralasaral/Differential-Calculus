{
 "cells": [
  {
   "cell_type": "markdown",
   "metadata": {},
   "source": [
    "# Chapter 1 \n",
    "# Limit, Continuity and Derivative\n",
    "1.1 Some preliminary definitions\n",
    "This section of the chapter is devoted to give some basic definitions which will be used in other sections as well as other chapters.\n",
    "\n",
    "$$\\textbf{Real Numbers}$$\n",
    " A number, rational or irrational is known as a real number. The set of real numbers include the set of rational as well as irrational numbers. The set of real numbers is denoted by $\\mathbb{R}$. Such real number can be located by a point on the real line.\n",
    "$$\\textbf{Interval}$$\n",
    " Let a nd b (b > a) be two real numbers. Then the set of points between a and b is known as an interval, a and b are known as the end points. We have the following intervals:\n",
    "$$i) Closed interval: [a,b] = \\{x:a\\leq{x}\\leq{b}\\}$$\n",
    "$$ii) Open interval: (a,b) = \\{x:a<x<b\\}$$\n",
    "The open interval can be written as ]a,b[.\n",
    "$$iii) Semi-open interval: (a,b] = \\{x:a<x\\leq{b}\\}$$\n",
    "$$\\textbf{Absolute value of a real number}$$ \n",
    "If x is a real number, then its absolute value is denoted by |x| is defined by $$ |x| = \n",
    "\\begin{cases} \n",
    "x & \\text{if } x \\geq 0 \\\\ \n",
    "-x & \\text{if } x < 0 \n",
    "\\end{cases}$$\n",
    "The absolute value of a real number has the following properties:\n",
    "$$\\begin{array}\n",
    "|x + y| \\leq{|x| + |y|} &\\space |x - y| \\geq{|x| - |y|} \\\\\n",
    "|xy| = |x||y| & \\text{and}\\space |\\frac{x}{y}|=\\frac{|x|}{|y|}\n",
    "\\end{array}$$\n",
    "$$\\textbf{Neighbourhood of a point:}$$ \n",
    "Let c be a number. Then any open interval(a,b) containing the number c is known as the neighbourhood of c. In particular (c-$\\epsilon$, c+$\\epsilon$), $\\epsilon>0$ is a neighbourhood of the point c.\n",
    "$$\\textbf{Function:}$$\n",
    " A function from a set A to a set B is a rule that associates each element of set A with a unique element of set B. A function f from a set A to a set B is denoted by $f:A \\rightarrow B$. If an element $x \\in A$ associates with an element $y \\in B$, then we write $y = f(x)$. $f(x)$ is known as the value of f at x or the image of x under f.\\\n",
    "If the function $f:A \\rightarrow B$ is defined by $y = f(x)$, then the set of values of x for which f(x) is defined is known as the domain of the function. It is denoted by D(f)\\\n",
    "Then, $D(f) = \\{x:x \\in A\\}$\\ \n",
    "Again the set of values of f(x) for all x belonging to the domain of the function is known as the range of the function. It is denoted by $R(f)$.\\\n",
    "Thus, $R(f) = \\{f(x):x \\in A\\}$\\\n",
    "For example, $y = f(x) = \\sqrt{x-1}$\\\n",
    "For all $x \\geq 1$, f(x) is defined so $D(f) = [1, \\infty)$\\\n",
    "Also, for all $x \\in D(f)$, $y \\geq 0$, so $R(f) = [0, \\infty)$\n",
    "$$\\textbf{Graph of the function:}$$\n",
    "Functions can be represented in various ways. Among them, one of the best ways to represent a function is the graph.\\\n",
    "Let $y = f(x)$ be a function with domain[a,b]. Then corresponding to each $x \\in [a,b]$, the function associates a unique value f(x). Then the ordered pair $(x, f(x))$ represents a point on the plane. For different values of $x \\in [a, b]$, give different values of the function f(x) thus forming different ordered pairs. Now, the graph of the function is the set of ordered pairs $(x, f(x))$.\\\n",
    "With respect to two mututally perpendicular straight lines $XOX'$ and $YOY'$ intersecting at O, different points represented by different ordered pairs $(x, f(x))$ be plotted and join them. This will give the graph of the given function.\n",
    "\n",
    "\n",
    "\n",
    "\n",
    "\n"
   ]
  },
  {
   "cell_type": "code",
   "execution_count": 1,
   "metadata": {},
   "outputs": [
    {
     "data": {
      "image/png": "[encoded data removed]",
      "text/plain": [
       "<Figure size 640x480 with 1 Axes>"
      ]
     },
     "metadata": {},
     "output_type": "display_data"
    },
    {
     "name": "stdout",
     "output_type": "stream",
     "text": [
      "Domain: All real numbers except x = 2\n",
      "Range: All real numbers except y = 0\n"
     ]
    }
   ],
   "source": [
    "import numpy as np\n",
    "import matplotlib.pyplot as plt\n",
    "\n",
    "# Define the function\n",
    "def func(x):\n",
    "    return 1 / (x - 2)\n",
    "\n",
    "# Domain: Exclude x = 2 where the function is undefined (division by zero)\n",
    "domain = np.linspace(-10, 10, 1000)  # Generate values for x\n",
    "domain = domain[domain != 2]         # Exclude x = 2\n",
    "\n",
    "# Calculate the range by applying the function to the domain\n",
    "range_values = func(domain)\n",
    "\n",
    "# Plot the function to visualize its behavior\n",
    "plt.plot(domain, range_values, label=r\"$y = \\frac{1}{x-2}$\", color='blue')\n",
    "plt.axvline(x=2, color='red', linestyle='--', label='Excluded x = 2')  # Show excluded value\n",
    "plt.axhline(y=0, color='black', linestyle='--')  # Horizontal line for reference\n",
    "plt.title(\"Graph of $y = \\\\frac{1}{x-2}$\")\n",
    "plt.xlabel(\"x\")\n",
    "plt.ylabel(\"y\")\n",
    "plt.legend()\n",
    "plt.grid()\n",
    "plt.show()\n",
    "\n",
    "# Print insights about domain and range\n",
    "print(\"Domain: All real numbers except x = 2\")\n",
    "print(\"Range: All real numbers except y = 0\")"
   ]
  },
  {
   "cell_type": "code",
   "execution_count": 7,
   "metadata": {},
   "outputs": [
    {
     "ename": "AttributeError",
     "evalue": "'numpy.ndarray' object has no attribute 'head'",
     "output_type": "error",
     "traceback": [
      "\u001b[1;31m---------------------------------------------------------------------------\u001b[0m",
      "\u001b[1;31mAttributeError\u001b[0m                            Traceback (most recent call last)",
      "Cell \u001b[1;32mIn[7], line 13\u001b[0m\n\u001b[0;32m     11\u001b[0m \u001b[38;5;66;03m# Calculate the range \u001b[39;00m\n\u001b[0;32m     12\u001b[0m \u001b[38;5;28mrange\u001b[39m \u001b[38;5;241m=\u001b[39m func(domain)\n\u001b[1;32m---> 13\u001b[0m \u001b[38;5;28mprint\u001b[39m(\u001b[38;5;28;43mrange\u001b[39;49m\u001b[38;5;241;43m.\u001b[39;49m\u001b[43mhead\u001b[49m(\u001b[38;5;241m4\u001b[39m))\n",
      "\u001b[1;31mAttributeError\u001b[0m: 'numpy.ndarray' object has no attribute 'head'"
     ]
    }
   ],
   "source": [
    "import numpy as np\n",
    "import matplotlib.pyplot as plt\n",
    "import math\n",
    "# Define the function\n",
    "def func(x):\n",
    "    return abs(x) + abs(x-1)\n",
    "\n",
    "# Define the domain\n",
    "domain = np.linspace(-10,10,100)\n",
    "\n",
    "# Calculate the range \n",
    "range = func(domain)\n",
    "print(range.head(4))\n",
    "\n"
   ]
  }
 ],
 "metadata": {
  "kernelspec": {
   "display_name": "Python 3",
   "language": "python",
   "name": "python3"
  },
  "language_info": {
   "codemirror_mode": {
    "name": "ipython",
    "version": 3
   },
   "file_extension": ".py",
   "mimetype": "text/x-python",
   "name": "python",
   "nbconvert_exporter": "python",
   "pygments_lexer": "ipython3",
   "version": "3.13.2"
  }
 },
 "nbformat": 4,
 "nbformat_minor": 2
}
